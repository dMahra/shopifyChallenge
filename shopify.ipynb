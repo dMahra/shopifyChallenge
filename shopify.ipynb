{
 "cells": [
  {
   "cell_type": "code",
   "execution_count": 1,
   "id": "901fa385-53a2-4588-b86a-5f92db05ad25",
   "metadata": {},
   "outputs": [],
   "source": [
    "import pandas as pd\n",
    "import numpy as np\n",
    "import matplotlib.pyplot as plt"
   ]
  },
  {
   "cell_type": "code",
   "execution_count": 27,
   "id": "c2033c51-c9c3-47d5-9b8c-89581e370e47",
   "metadata": {},
   "outputs": [],
   "source": [
    "df = pd.read_csv('shopifyData.csv')"
   ]
  },
  {
   "cell_type": "code",
   "execution_count": 28,
   "id": "20409632-3d34-47a4-965b-66f59afcbe2a",
   "metadata": {},
   "outputs": [
    {
     "data": {
      "text/html": [
       "<div>\n",
       "<style scoped>\n",
       "    .dataframe tbody tr th:only-of-type {\n",
       "        vertical-align: middle;\n",
       "    }\n",
       "\n",
       "    .dataframe tbody tr th {\n",
       "        vertical-align: top;\n",
       "    }\n",
       "\n",
       "    .dataframe thead th {\n",
       "        text-align: right;\n",
       "    }\n",
       "</style>\n",
       "<table border=\"1\" class=\"dataframe\">\n",
       "  <thead>\n",
       "    <tr style=\"text-align: right;\">\n",
       "      <th></th>\n",
       "      <th>order_id</th>\n",
       "      <th>shop_id</th>\n",
       "      <th>user_id</th>\n",
       "      <th>order_amount</th>\n",
       "      <th>total_items</th>\n",
       "      <th>payment_method</th>\n",
       "      <th>created_at</th>\n",
       "    </tr>\n",
       "  </thead>\n",
       "  <tbody>\n",
       "    <tr>\n",
       "      <th>0</th>\n",
       "      <td>1</td>\n",
       "      <td>53</td>\n",
       "      <td>746</td>\n",
       "      <td>224</td>\n",
       "      <td>2</td>\n",
       "      <td>cash</td>\n",
       "      <td>2017-03-13 12:36:56</td>\n",
       "    </tr>\n",
       "    <tr>\n",
       "      <th>1</th>\n",
       "      <td>2</td>\n",
       "      <td>92</td>\n",
       "      <td>925</td>\n",
       "      <td>90</td>\n",
       "      <td>1</td>\n",
       "      <td>cash</td>\n",
       "      <td>2017-03-03 17:38:52</td>\n",
       "    </tr>\n",
       "    <tr>\n",
       "      <th>2</th>\n",
       "      <td>3</td>\n",
       "      <td>44</td>\n",
       "      <td>861</td>\n",
       "      <td>144</td>\n",
       "      <td>1</td>\n",
       "      <td>cash</td>\n",
       "      <td>2017-03-14 4:23:56</td>\n",
       "    </tr>\n",
       "    <tr>\n",
       "      <th>3</th>\n",
       "      <td>4</td>\n",
       "      <td>18</td>\n",
       "      <td>935</td>\n",
       "      <td>156</td>\n",
       "      <td>1</td>\n",
       "      <td>credit_card</td>\n",
       "      <td>2017-03-26 12:43:37</td>\n",
       "    </tr>\n",
       "    <tr>\n",
       "      <th>4</th>\n",
       "      <td>5</td>\n",
       "      <td>18</td>\n",
       "      <td>883</td>\n",
       "      <td>156</td>\n",
       "      <td>1</td>\n",
       "      <td>credit_card</td>\n",
       "      <td>2017-03-01 4:35:11</td>\n",
       "    </tr>\n",
       "    <tr>\n",
       "      <th>5</th>\n",
       "      <td>6</td>\n",
       "      <td>58</td>\n",
       "      <td>882</td>\n",
       "      <td>138</td>\n",
       "      <td>1</td>\n",
       "      <td>credit_card</td>\n",
       "      <td>2017-03-14 15:25:01</td>\n",
       "    </tr>\n",
       "    <tr>\n",
       "      <th>6</th>\n",
       "      <td>7</td>\n",
       "      <td>87</td>\n",
       "      <td>915</td>\n",
       "      <td>149</td>\n",
       "      <td>1</td>\n",
       "      <td>cash</td>\n",
       "      <td>2017-03-01 21:37:57</td>\n",
       "    </tr>\n",
       "    <tr>\n",
       "      <th>7</th>\n",
       "      <td>8</td>\n",
       "      <td>22</td>\n",
       "      <td>761</td>\n",
       "      <td>292</td>\n",
       "      <td>2</td>\n",
       "      <td>cash</td>\n",
       "      <td>2017-03-08 2:05:38</td>\n",
       "    </tr>\n",
       "    <tr>\n",
       "      <th>8</th>\n",
       "      <td>9</td>\n",
       "      <td>64</td>\n",
       "      <td>914</td>\n",
       "      <td>266</td>\n",
       "      <td>2</td>\n",
       "      <td>debit</td>\n",
       "      <td>2017-03-17 20:56:50</td>\n",
       "    </tr>\n",
       "    <tr>\n",
       "      <th>9</th>\n",
       "      <td>10</td>\n",
       "      <td>52</td>\n",
       "      <td>788</td>\n",
       "      <td>146</td>\n",
       "      <td>1</td>\n",
       "      <td>credit_card</td>\n",
       "      <td>2017-03-30 21:08:26</td>\n",
       "    </tr>\n",
       "  </tbody>\n",
       "</table>\n",
       "</div>"
      ],
      "text/plain": [
       "   order_id  shop_id  user_id  order_amount  total_items payment_method  \\\n",
       "0         1       53      746           224            2           cash   \n",
       "1         2       92      925            90            1           cash   \n",
       "2         3       44      861           144            1           cash   \n",
       "3         4       18      935           156            1    credit_card   \n",
       "4         5       18      883           156            1    credit_card   \n",
       "5         6       58      882           138            1    credit_card   \n",
       "6         7       87      915           149            1           cash   \n",
       "7         8       22      761           292            2           cash   \n",
       "8         9       64      914           266            2          debit   \n",
       "9        10       52      788           146            1    credit_card   \n",
       "\n",
       "            created_at  \n",
       "0  2017-03-13 12:36:56  \n",
       "1  2017-03-03 17:38:52  \n",
       "2   2017-03-14 4:23:56  \n",
       "3  2017-03-26 12:43:37  \n",
       "4   2017-03-01 4:35:11  \n",
       "5  2017-03-14 15:25:01  \n",
       "6  2017-03-01 21:37:57  \n",
       "7   2017-03-08 2:05:38  \n",
       "8  2017-03-17 20:56:50  \n",
       "9  2017-03-30 21:08:26  "
      ]
     },
     "execution_count": 28,
     "metadata": {},
     "output_type": "execute_result"
    }
   ],
   "source": [
    "# EDA\n",
    "df.head(10)"
   ]
  },
  {
   "cell_type": "code",
   "execution_count": 29,
   "id": "6a0bb864-3ecd-4cc3-9371-ebe0ebc36e5a",
   "metadata": {},
   "outputs": [
    {
     "data": {
      "image/png": "[encoded data removed]",
      "text/plain": [
       "<Figure size 432x288 with 1 Axes>"
      ]
     },
     "metadata": {
      "needs_background": "light"
     },
     "output_type": "display_data"
    }
   ],
   "source": [
    "# EDA\n",
    "new = df['order_amount'].value_counts(ascending=True).reset_index()\n",
    "# print(list(new['index'])) #list of ascending most popular purchase values\n",
    "# print(df[df['order_amount'] == 704000].head())\n",
    "revenue = sum(df['order_amount'])\n",
    "num_orders = df.shape[0]\n",
    "lst = list(new['index'])\n",
    "plt.title('Order Amounts from Shopify Customers');\n",
    "plt.hist(df['order_amount'], log=True);\n",
    "plt.xlabel('order_amount($)');\n",
    "plt.ylabel('frequency');"
   ]
  },
  {
   "cell_type": "markdown",
   "id": "6b43a7c1-6bf3-4f40-88b5-dc39bc2e0e10",
   "metadata": {},
   "source": [
    "we can see how AOV is skewed based on this histogram and that's why we should consider another metric"
   ]
  },
  {
   "cell_type": "code",
   "execution_count": 30,
   "id": "e823ff25-e6ce-411a-8d52-db06ca89ff55",
   "metadata": {},
   "outputs": [
    {
     "name": "stdout",
     "output_type": "stream",
     "text": [
      "our AOV: 3145.128\n"
     ]
    }
   ],
   "source": [
    "# a\n",
    "# AOV - revenue / # of orders\n",
    "\n",
    "print(\"our AOV: \"+str(revenue / num_orders))"
   ]
  },
  {
   "cell_type": "markdown",
   "id": "04c45069-6982-4c33-9d35-1fa4d767581e",
   "metadata": {},
   "source": [
    "There's outliers in the (order_amount) field that's causing the AOV to be a huge overestimate. Specifically, the number of orders and the order amount is not the same across each of the 100 stores in our data."
   ]
  },
  {
   "cell_type": "code",
   "execution_count": 31,
   "id": "bdf6a7bd-79b0-4cff-b5bc-0592fcdb370a",
   "metadata": {},
   "outputs": [],
   "source": [
    "aovGraph = df.groupby(['shop_id'])['order_amount'].agg('sum') / len(df.groupby(['shop_id']))\n",
    "newGraph = aovGraph.to_frame(name = 'AOV')"
   ]
  },
  {
   "cell_type": "code",
   "execution_count": 32,
   "id": "c189df24-65fb-4d6c-8300-74f0bceb0b44",
   "metadata": {},
   "outputs": [
    {
     "data": {
      "image/png": "[encoded data removed]",
      "text/plain": [
       "<Figure size 432x288 with 1 Axes>"
      ]
     },
     "metadata": {
      "needs_background": "light"
     },
     "output_type": "display_data"
    }
   ],
   "source": [
    "import matplotlib.pyplot as plt\n",
    "plt.bar(newGraph.index, newGraph['AOV'], log = True);\n",
    "plt.xlabel('shop ID');\n",
    "plt.ylabel('AOV');\n",
    "plt.title('AOV by Shopify Shop ID');"
   ]
  },
  {
   "cell_type": "markdown",
   "id": "5c70a6fa-1f27-40d3-b6bd-c2f8ea5ce3d1",
   "metadata": {},
   "source": [
    "Looks like shops with ID 78 and 42 are outliers with the highest AOvs. "
   ]
  },
  {
   "cell_type": "markdown",
   "id": "d35d2739-1915-4ea5-8a5a-ca5101392bd3",
   "metadata": {},
   "source": [
    "Also I think AOV isn't as usefull unless your store has a more compact price range. With the given data, we can see our order total prices are\n",
    "everywhere and as a result our AOV is being skewed. Instead, let's use median since it takes outliers into account\n",
    "# MOV (Median Order Value)"
   ]
  },
  {
   "cell_type": "code",
   "execution_count": 33,
   "id": "f9e10a93-1ff2-4a7f-9593-c7e849a55115",
   "metadata": {},
   "outputs": [],
   "source": [
    "# b\n",
    "median = np.median(df['order_amount'])"
   ]
  },
  {
   "cell_type": "code",
   "execution_count": 34,
   "id": "8c313f80-7421-467e-95ef-6d71c9df0c03",
   "metadata": {},
   "outputs": [
    {
     "name": "stdout",
     "output_type": "stream",
     "text": [
      "our median: 284.0\n"
     ]
    }
   ],
   "source": [
    "# c\n",
    "print(\"our median: \" + str(median))"
   ]
  },
  {
   "cell_type": "markdown",
   "id": "a99febda-3f20-4b76-a15a-aff2e4e7a2f4",
   "metadata": {},
   "source": [
    "the median calculated should be a better indicator of the price of one purchase "
   ]
  },
  {
   "cell_type": "markdown",
   "id": "82938e22-781e-4298-85fd-5d930b85314b",
   "metadata": {},
   "source": [
    "# Question 2\n",
    "# a\n",
    "select count(*) as count\n",
    "from Shippers s\n",
    "join Orders o on s.ShipperID = o.ShipperID\n",
    "where s.ShipperName = \"Speedy Express\";\n",
    "\n",
    "In total, 54 Orders were shipped by Speedy Express\n",
    "# b\n",
    "select e.LastName\n",
    "from Employees e\n",
    "where e.EmployeeID = (select o.EmployeeID\n",
    "from Orders o\n",
    "group by o.EmployeeID\n",
    "order by count(OrderID)\n",
    "desc limit 1);\n",
    "\n",
    "The last name of the employee with the most orders is Peacock\n",
    "# c \n",
    "select p.productName\n",
    "from products p \n",
    "where p.productID = (select productID\n",
    "from (select *  from customers c join orders o on c.CustomerID == o.CustomerID where Country == \"Germany\") \n",
    "g join orderDetails d on d.OrderID = g.OrderID\n",
    "group by productID\n",
    "order by SUM(d.QUANTITY)\n",
    "desc limit 1)\n",
    "\n",
    "Boston Crab Meat was ordered most by customers in Germany"
   ]
  }
 ],
 "metadata": {
  "kernelspec": {
   "display_name": "Python 3",
   "language": "python",
   "name": "python3"
  },
  "language_info": {
   "codemirror_mode": {
    "name": "ipython",
    "version": 3
   },
   "file_extension": ".py",
   "mimetype": "text/x-python",
   "name": "python",
   "nbconvert_exporter": "python",
   "pygments_lexer": "ipython3",
   "version": "3.8.8"
  }
 },
 "nbformat": 4,
 "nbformat_minor": 5
}
